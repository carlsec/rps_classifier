{
 "cells": [
  {
   "cell_type": "code",
   "execution_count": 1,
   "id": "instant-lunch",
   "metadata": {},
   "outputs": [],
   "source": [
    "import cv2\n",
    "import os\n",
    "import pathlib\n",
    "import glob\n",
    "import numpy as np\n",
    "import tensorflow as tf\n",
    "import random\n",
    "\n",
    "classes = ['1', '2', '3']\n",
    "path_image = 'imgs/'\n",
    "\n",
    "class_maps = {\n",
    "    0: \"Pedra\",\n",
    "    1: \"Papel\",\n",
    "    2: \"Tesoura\",\n",
    "}"
   ]
  },
  {
   "cell_type": "code",
   "execution_count": 2,
   "id": "urban-impact",
   "metadata": {},
   "outputs": [
    {
     "name": "stdout",
     "output_type": "stream",
     "text": [
      "Num GPUs Available:  0\n"
     ]
    }
   ],
   "source": [
    "import tensorflow as tf\n",
    "print(\"Num GPUs Available: \", len(tf.config.list_physical_devices('GPU')))"
   ]
  },
  {
   "cell_type": "code",
   "execution_count": 3,
   "id": "cellular-stake",
   "metadata": {},
   "outputs": [],
   "source": [
    "gpus = tf.config.list_physical_devices('GPU')\n",
    "if gpus:\n",
    "  # Restrict TensorFlow to only use the first GPU\n",
    "    try:\n",
    "        tf.config.experimental.set_visible_devices(gpus[0], 'GPU')\n",
    "        logical_gpus = tf.config.experimental.list_logical_devices('GPU')\n",
    "        print(len(gpus), \"Physical GPUs,\", len(logical_gpus), \"Logical GPU\")\n",
    "    except RuntimeError as e:\n",
    "    # Visible devices must be set before GPUs have been initialized\n",
    "        print(e)"
   ]
  },
  {
   "cell_type": "code",
   "execution_count": 4,
   "id": "figured-independence",
   "metadata": {},
   "outputs": [
    {
     "name": "stdout",
     "output_type": "stream",
     "text": [
      "Model: \"model\"\n",
      "_________________________________________________________________\n",
      "Layer (type)                 Output Shape              Param #   \n",
      "=================================================================\n",
      "input_1 (InputLayer)         [(None, 128, 128, 1)]     0         \n",
      "_________________________________________________________________\n",
      "conv2d (Conv2D)              (None, 128, 128, 32)      320       \n",
      "_________________________________________________________________\n",
      "max_pooling2d (MaxPooling2D) (None, 64, 64, 32)        0         \n",
      "_________________________________________________________________\n",
      "re_lu (ReLU)                 (None, 64, 64, 32)        0         \n",
      "_________________________________________________________________\n",
      "dropout (Dropout)            (None, 64, 64, 32)        0         \n",
      "_________________________________________________________________\n",
      "conv2d_1 (Conv2D)            (None, 64, 64, 32)        9248      \n",
      "_________________________________________________________________\n",
      "max_pooling2d_1 (MaxPooling2 (None, 32, 32, 32)        0         \n",
      "_________________________________________________________________\n",
      "re_lu_1 (ReLU)               (None, 32, 32, 32)        0         \n",
      "_________________________________________________________________\n",
      "dropout_1 (Dropout)          (None, 32, 32, 32)        0         \n",
      "_________________________________________________________________\n",
      "flatten (Flatten)            (None, 32768)             0         \n",
      "_________________________________________________________________\n",
      "dense (Dense)                (None, 4)                 131076    \n",
      "_________________________________________________________________\n",
      "softmax (Softmax)            (None, 4)                 0         \n",
      "=================================================================\n",
      "Total params: 140,644\n",
      "Trainable params: 140,644\n",
      "Non-trainable params: 0\n",
      "_________________________________________________________________\n"
     ]
    }
   ],
   "source": [
    "model = tf.keras.models.load_model('model_rps/model_rps/')\n",
    "model.summary()"
   ]
  },
  {
   "cell_type": "code",
   "execution_count": 8,
   "id": "saved-restaurant",
   "metadata": {},
   "outputs": [],
   "source": [
    "def hand(hand_user, hand_robot):\n",
    "    if hand_user == hand_robot:\n",
    "        return \"Empate\"\n",
    "    \n",
    "    if hand_user == \"Papel\":\n",
    "        if hand_robot == \"Pedra\":\n",
    "            return \"Usuario\"\n",
    "        if hand_robot == \"Tesoura\":\n",
    "            return \"Computador\"\n",
    "        \n",
    "    if hand_user == \"Pedra\":\n",
    "        if hand_robot == \"Tesoura\":\n",
    "            return \"Usuario\"\n",
    "        if hand_robot == \"Papel\":\n",
    "            return \"Computador\"\n",
    "        \n",
    "    if hand_user == \"Tesoura\":\n",
    "        if hand_robot == \"Papel\":\n",
    "            return \"Usuario\"\n",
    "        if hand_robot == \"Pedra\":\n",
    "            return \"Computador\""
   ]
  },
  {
   "cell_type": "code",
   "execution_count": 11,
   "id": "chief-workshop",
   "metadata": {},
   "outputs": [],
   "source": [
    "cap = cv2.VideoCapture(1)\n",
    "cap = cv2.VideoCapture(0)\n",
    "\n",
    "pred_none = None\n",
    "while True:\n",
    "    ret,frame = cap.read()\n",
    "    frame = cv2.resize(frame, dsize=(600, 600), interpolation=cv2.INTER_CUBIC)\n",
    "    \n",
    "    cv2.rectangle(frame,(145,320),(400,550),(160, 175, 179),2)\n",
    "    \n",
    "    roi = frame[320:550, 145:400]\n",
    "    img = cv2.cvtColor(roi, cv2.COLOR_BGR2RGB)\n",
    "    img = tf.image.rgb_to_grayscale(img)\n",
    "    img = tf.image.convert_image_dtype(img, np.float32)\n",
    "    img = tf.image.resize(img, (128,128))\n",
    "        \n",
    "    pred = model.predict(np.array([img]))\n",
    "    pred_code = np.argmax(pred[0])\n",
    "    pred_name = class_maps[pred_code]\n",
    "    \n",
    "    if pred_none != pred_name:\n",
    "        robot = random.choice(['Pedra', 'Papel', 'Tesoura'])\n",
    "        win = hand(pred_name, robot)\n",
    "\n",
    "    pred_none = pred_name\n",
    "    \n",
    "    cv2.putText(frame, \"Usuario: \" + pred_name, (20, 580), cv2.FONT_HERSHEY_SIMPLEX, 1.2, (255, 255, 255), 1, cv2.LINE_AA)\n",
    "    cv2.putText(frame, \"Computador: \" + robot, (20, 40), cv2.FONT_HERSHEY_SIMPLEX, 1.2, (255, 255, 255), 1, cv2.LINE_AA)\n",
    "    cv2.putText(frame, \"Vencedor: \" + win, (20, 300), cv2.FONT_HERSHEY_SIMPLEX, 1, (230, 228, 3), 1, cv2.LINE_AA)\n",
    "    \n",
    "    if robot != \"none\":\n",
    "        icon = cv2.imread(\n",
    "            \"imgs/{}.png\".format(robot))\n",
    "        icon = cv2.resize(icon, (220, 220))\n",
    "        frame[50:270, 150:370] = icon\n",
    "    \n",
    "    cv2.imshow('Play', frame)\n",
    "    if cv2.waitKey(1) & 0xFF == ord('q'):\n",
    "        break\n",
    "cap.release()\n",
    "cv2.destroyAllWindows()"
   ]
  },
  {
   "cell_type": "code",
   "execution_count": null,
   "id": "interested-province",
   "metadata": {},
   "outputs": [],
   "source": []
  },
  {
   "cell_type": "code",
   "execution_count": null,
   "id": "dried-collaboration",
   "metadata": {},
   "outputs": [],
   "source": []
  }
 ],
 "metadata": {
  "kernelspec": {
   "display_name": "Python 3",
   "language": "python",
   "name": "python3"
  },
  "language_info": {
   "codemirror_mode": {
    "name": "ipython",
    "version": 3
   },
   "file_extension": ".py",
   "mimetype": "text/x-python",
   "name": "python",
   "nbconvert_exporter": "python",
   "pygments_lexer": "ipython3",
   "version": "3.8.5"
  }
 },
 "nbformat": 4,
 "nbformat_minor": 5
}
